{
  "nbformat": 4,
  "nbformat_minor": 0,
  "metadata": {
    "colab": {
      "name": "11주차 팀 과제",
      "provenance": [],
      "collapsed_sections": [],
      "authorship_tag": "ABX9TyOvaEfytSZVmN4MUlGOJVdP",
      "include_colab_link": true
    },
    "kernelspec": {
      "name": "python3",
      "display_name": "Python 3"
    },
    "language_info": {
      "name": "python"
    }
  },
  "cells": [
    {
      "cell_type": "markdown",
      "metadata": {
        "id": "view-in-github",
        "colab_type": "text"
      },
      "source": [
        "<a href=\"https://colab.research.google.com/github/ghkdus/11-_11-/blob/main/11%EC%A3%BC%EC%B0%A8_%ED%8C%80_%EA%B3%BC%EC%A0%9C.ipynb\" target=\"_parent\"><img src=\"https://colab.research.google.com/assets/colab-badge.svg\" alt=\"Open In Colab\"/></a>"
      ]
    },
    {
      "cell_type": "code",
      "source": [
        "!pip install beautifulsoup4\n",
        "!pip install requests"
      ],
      "metadata": {
        "colab": {
          "base_uri": "https://localhost:8080/"
        },
        "id": "3Q_ofj-Kw8iD",
        "outputId": "16c989ca-ad20-45fa-c365-0f1c3df95dd8"
      },
      "execution_count": null,
      "outputs": [
        {
          "output_type": "stream",
          "name": "stdout",
          "text": [
            "Requirement already satisfied: beautifulsoup4 in /usr/local/lib/python3.7/dist-packages (4.6.3)\n",
            "Requirement already satisfied: requests in /usr/local/lib/python3.7/dist-packages (2.23.0)\n",
            "Requirement already satisfied: certifi>=2017.4.17 in /usr/local/lib/python3.7/dist-packages (from requests) (2021.10.8)\n",
            "Requirement already satisfied: idna<3,>=2.5 in /usr/local/lib/python3.7/dist-packages (from requests) (2.10)\n",
            "Requirement already satisfied: chardet<4,>=3.0.2 in /usr/local/lib/python3.7/dist-packages (from requests) (3.0.4)\n",
            "Requirement already satisfied: urllib3!=1.25.0,!=1.25.1,<1.26,>=1.21.1 in /usr/local/lib/python3.7/dist-packages (from requests) (1.24.3)\n"
          ]
        }
      ]
    },
    {
      "cell_type": "code",
      "source": [
        "from urllib.request import urlopen\n",
        "url = 'https://www.billboard.com/charts/hot-100/'\n",
        "htmlData = urlopen(url).read()\n",
        "\n",
        "tr = html.select('#content > div.track_section > div:nth-child(2) > div > table > tbody > tr')\n",
        "\n",
        "for item in tr:\n",
        "  \n",
        "  "
      ],
      "metadata": {
        "id": "dc0GbyT55CWD"
      },
      "execution_count": null,
      "outputs": []
    },
    {
      "cell_type": "code",
      "source": [
        "import requests\n",
        "from bs4 import BeautifulSoup\n",
        "\n",
        "url= \"https://search.naver.com/search.naver?where=nexearch&sm=top_hty&fbm=0&ie=utf8&query=%EC%98%81%ED%99%94+%EC%88%9C%EC%9C%84\"\n",
        "res = requests.get(url)\n",
        "res.raise_for_status()\n",
        "\n",
        "\n",
        "soup = BeautifulSoup(res.text, 'lxml')\n",
        "movies = soup.find_all(\"strong\",attrs={\"class\":\"title_box\"})\n",
        "\n",
        "for movie in movies:\n",
        "  print(movie.get_text())"
      ],
      "metadata": {
        "id": "87c2trWOf6aZ"
      },
      "execution_count": 1,
      "outputs": []
    }
  ]
}